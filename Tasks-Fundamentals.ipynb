{
 "cells": [
  {
   "cell_type": "markdown",
   "metadata": {},
   "source": [
    "# Tasks"
   ]
  },
  {
   "cell_type": "markdown",
   "metadata": {},
   "source": [
    "Solutions to the task assessment for Fundamentals of Data Analysis. Author is Noel Manley (G00387903@hotmail.com)."
   ]
  },
  {
   "cell_type": "markdown",
   "metadata": {},
   "source": [
    "### Task1:\n",
    "\n",
    "**October 5th, 2020:** Write a Python function called **counts** that takes a list as input and returns a dictionary of unique items in the list as keys and the number of times each item appears as values. So, the input ['A', 'A', 'B', 'C', 'A'] should have output {'A': 3, 'B': 1, 'C': 1}. Your code should not depend on any module from the standard library or otherwise.\n",
    "****"
   ]
  },
  {
   "cell_type": "markdown",
   "metadata": {},
   "source": [
    "#### Solution:\n",
    "Count the occurence of one list item in a list using the count method as shown below. This method does not work for counting multiple items in a list [1]. If the count method was of all 3 unique items in the list A, B and C, only the count of the last item is produced as output."
   ]
  },
  {
   "cell_type": "code",
   "execution_count": 1,
   "metadata": {},
   "outputs": [
    {
     "data": {
      "text/plain": [
       "1"
      ]
     },
     "execution_count": 1,
     "metadata": {},
     "output_type": "execute_result"
    }
   ],
   "source": [
    "# A list of strings\n",
    "l = ['A', 'A', 'B', 'C', 'A']\n",
    "\n",
    "# Count of each item in the list\n",
    "l.count('A')\n",
    "l.count('B')\n",
    "l.count('C')"
   ]
  },
  {
   "cell_type": "markdown",
   "metadata": {},
   "source": [
    "The simplest means of completing the task is by using the counter object from the collections module. The output from the method is displayed as a dictionary in a list of keys and counts of the list items as required by this task [2]. However the solution for the task should not be from a module of a standard Library. Need to build a function to complete this task but it is infomative to know the module and object to count the number of items into dictionary format."
   ]
  },
  {
   "cell_type": "code",
   "execution_count": 2,
   "metadata": {},
   "outputs": [
    {
     "data": {
      "text/plain": [
       "Counter({'A': 3, 'B': 1, 'C': 1})"
      ]
     },
     "execution_count": 2,
     "metadata": {},
     "output_type": "execute_result"
    }
   ],
   "source": [
    "# Import Counter object from the collections module\n",
    "from collections import Counter\n",
    "\n",
    "# A list of strings\n",
    "l = ['A', 'A', 'B', 'C', 'A']\n",
    "# Count the string objects in a dictionary\n",
    "Counter(l)"
   ]
  },
  {
   "cell_type": "markdown",
   "metadata": {},
   "source": [
    "Dictionaries are Python’s implementation of a data structure that is more generally known as an associative array. A dictionary consists of a collection of key-value pairs. Each key-value pair maps the key to its associated value. A dictionary can be constructed using the dict() function.[3] In the example below i create a dictionary using the input for the task. The dict() function displays the dictionary in the key-value pair format which is required as the output."
   ]
  },
  {
   "cell_type": "code",
   "execution_count": 3,
   "metadata": {},
   "outputs": [
    {
     "data": {
      "text/plain": [
       "{'A': 3, 'B': 1, 'C': 1}"
      ]
     },
     "execution_count": 3,
     "metadata": {},
     "output_type": "execute_result"
    }
   ],
   "source": [
    "# A list of strings\n",
    "l = ['A', 'A', 'B', 'C', 'A']\n",
    "\n",
    "# Create dictionary with the following inputs\n",
    "dict(A = 3, B = 1, C = 1)"
   ]
  },
  {
   "cell_type": "markdown",
   "metadata": {},
   "source": [
    "To complete the task i need to combine the results of the count built-in function which counts the the number of each item \n",
    "with the dict() built-in function and convert the output into a dictionary. This is all done \n",
    "within a For loop [4] to get a count of all the items within the input list. Reference [5] displays the code as follows. Firstly a count of all the items and dict() function displays the output in dictionary format."
   ]
  },
  {
   "cell_type": "code",
   "execution_count": 125,
   "metadata": {},
   "outputs": [
    {
     "data": {
      "text/plain": [
       "{'C': 1, 'A': 3, 'B': 1}"
      ]
     },
     "execution_count": 125,
     "metadata": {},
     "output_type": "execute_result"
    }
   ],
   "source": [
    "# A list of strings\n",
    "l = ['A', 'A', 'B', 'C', 'A']\n",
    "\n",
    "dict((x,l.count(x)) for x in set(l))"
   ]
  },
  {
   "cell_type": "markdown",
   "metadata": {},
   "source": [
    "Finally enclose the code in a function called counts [6]. Sort the dictionary by sorting the keys [7] so the output appears in alphabetical order as specified by the task."
   ]
  },
  {
   "cell_type": "code",
   "execution_count": 5,
   "metadata": {},
   "outputs": [],
   "source": [
    "# A list of strings\n",
    "l = ['A', 'A', 'B', 'C', 'A']\n",
    "# Define a function called counts\n",
    "def counts(l):\n",
    "    # Loop from 0 to the length of the list\n",
    "    for i in range(0, len(l)):\n",
    "        # Return dictionary\n",
    "        return dict((x,l.count(x)) for x in sorted(set (l)))"
   ]
  },
  {
   "cell_type": "code",
   "execution_count": 6,
   "metadata": {},
   "outputs": [
    {
     "data": {
      "text/plain": [
       "{'A': 3, 'B': 1, 'C': 1}"
      ]
     },
     "execution_count": 6,
     "metadata": {},
     "output_type": "execute_result"
    }
   ],
   "source": [
    "# Run function\n",
    "counts(l)"
   ]
  },
  {
   "cell_type": "markdown",
   "metadata": {},
   "source": [
    "## References:\n",
    "[1] - TutorialsPoint: Python List count() method; https://www.tutorialspoint.com/python/list_count.htm\n",
    "\n",
    "[2] - PythonForBeginners: Python Collections Counter; https://www.pythonforbeginners.com/collection/python-collections-counter\n",
    "\n",
    "[3] - Real Python: Dictionaries in Python; https://realpython.com/python-dicts/\n",
    "\n",
    "[4] - w3schools.com: Python For Loops; https://www.w3schools.com/python/python_for_loops.asp\n",
    "\n",
    "[5] - Stack Overflow: How can i count the occurences of a list item?; https://stackoverflow.com/questions/2600191/how-can-i-count-the-occurrences-of-a-list-item\n",
    "\n",
    "[6] - A Whirlwind tour of python: Defining and using functions; https://jakevdp.github.io/WhirlwindTourOfPython/08-defining-functions.html\n",
    "\n",
    "[7] - thispointer.com: Python : How to Sort a Dictionary by key or Value?; https://thispointer.com/python-how-to-sort-a-dictionary-by-key-or-value/"
   ]
  },
  {
   "cell_type": "markdown",
   "metadata": {},
   "source": [
    "***"
   ]
  },
  {
   "cell_type": "markdown",
   "metadata": {},
   "source": [
    "### Task2:"
   ]
  },
  {
   "cell_type": "markdown",
   "metadata": {},
   "source": [
    "**November 2nd 2020:** Write a function called **dicerolls** that simulates rolling dice. Your function should take 2 parameters: the number of dice k and the number of times to roll the dice n. The function should simulate randomly rolling k dice n times. Keeping track of each total face value. It should then return a dictionary with the number of times each possible total face value occurred.\n",
    "***"
   ]
  },
  {
   "cell_type": "markdown",
   "metadata": {},
   "source": [
    "#### Solution:"
   ]
  },
  {
   "cell_type": "markdown",
   "metadata": {},
   "source": [
    "The numpy.random function randint is used to simulate the rolling one dice. It can be used also to simulate multiple dice rolling concurrently also. If one dice is rolled using this function (as shown in the example below) you have an equal probability of getting each of the 6 sides. If the number of dice rolls was increased the histogram would be flatten but overall for each roll of the dice there is the same probability of any one of the 6 sides to appear."
   ]
  },
  {
   "cell_type": "code",
   "execution_count": 206,
   "metadata": {},
   "outputs": [
    {
     "data": {
      "text/plain": [
       "(array([173., 167., 162., 157., 159., 182.]),\n",
       " array([0.5, 1.5, 2.5, 3.5, 4.5, 5.5, 6.5]),\n",
       " <BarContainer object of 6 artists>)"
      ]
     },
     "execution_count": 206,
     "metadata": {},
     "output_type": "execute_result"
    },
    {
     "data": {
      "image/png": "[encoded data removed]",
      "text/plain": [
       "<Figure size 432x288 with 1 Axes>"
      ]
     },
     "metadata": {
      "needs_background": "light"
     },
     "output_type": "display_data"
    }
   ],
   "source": [
    "# import numpy and matplotlib libraries\n",
    "import numpy as np\n",
    "import matplotlib.pyplot as plt\n",
    "\n",
    "# Use random.randint function\n",
    "y = np.random.randint(1, 7, size = 1000)\n",
    "\n",
    "# show histogram of output\n",
    "plt.hist(y, bins = np.linspace(0.5, 6.5, 7))"
   ]
  },
  {
   "cell_type": "markdown",
   "metadata": {},
   "source": [
    "If the number of dice was increased to 2 the minimum total face value would be 2 and the maximum face value would be 12 per roll. For a rolling dice simulation with 1000 rolls the distribution will be similar to a normal distribution [1] with the number of total face values clustered around the middle and less around the edges."
   ]
  },
  {
   "cell_type": "markdown",
   "metadata": {},
   "source": [
    "The random.randint function can be used for multiple dicerolls also. However random.choices function has been selected to display the simulation of multiple dice. Same as the randint function for one dice the probability of selecting any of the 6 faces is the same. A numpy array and a plt similar to randint example above would be created.\n",
    "For multiple dice rolls the resulting distribution will be similar to a [1] normal distribution as the sum of each dice roll is calculated rather than one value returning the majority of the vlaues clustered around the mean while data less frequent is farther away from the mean. \n",
    "For the task solution the dicerolls function, the range method [2] is used within the random.choices method [3] to get the start and the end point of the range - the dice face value for one roll. within the choice method is the number of rolls specified in the function dicerolls (k = 1000).\n",
    "The += operator [4] adds to the variable counter within the for loop until all 1000 rolls have been completed."
   ]
  },
  {
   "cell_type": "code",
   "execution_count": 91,
   "metadata": {},
   "outputs": [
    {
     "data": {
      "text/plain": [
       "{2: 29,\n",
       " 3: 61,\n",
       " 4: 89,\n",
       " 5: 106,\n",
       " 6: 137,\n",
       " 7: 179,\n",
       " 8: 146,\n",
       " 9: 89,\n",
       " 10: 82,\n",
       " 11: 53,\n",
       " 12: 29}"
      ]
     },
     "execution_count": 91,
     "metadata": {},
     "output_type": "execute_result"
    }
   ],
   "source": [
    "# import numpy library\n",
    "import numpy as np\n",
    "import matplotlib.pyplot as plt\n",
    "\n",
    "# define the function dicerolls with 2 parameters k = no. of dice & n = no. of dice rolls\n",
    "def dicerolls(k, n):\n",
    "    # prepare dictionary with zero values for all possible results\n",
    "    counter = {n : 0 for n in range(k, k*6 + 1)}\n",
    "\n",
    "    # roll the dice\n",
    "    for i in range(n):\n",
    "        # sums all rolls of the dice\n",
    "        total = sum(random.choices(range(1, 6 + 1), k = k))\n",
    "        # adds result of each roll to counter\n",
    "        counter[total] += 1\n",
    "    return counter\n",
    "# enter values for the no. of dice & no. of rolls (2 and 1000)\n",
    "dicerolls(2, 1000)"
   ]
  },
  {
   "cell_type": "markdown",
   "metadata": {},
   "source": [
    "### References:\n",
    "[1] - Dr. Soumen Atta: Simulating randomness using Python’s random module; https://soumenatta.medium.com/simulating-randomness-using-pythons-random-module-de9c08910c3c\n",
    "\n",
    "[2] - GeekforGeeks: Python | range() method; https://www.geeksforgeeks.org/python-range-method/?ref=rp\n",
    "\n",
    "[3] - w3schools.com: Python Random choices() Method; https://www.w3schools.com/python/ref_random_choices.asp\n",
    "\n",
    "[4] - Programiz: Python Operators; https://www.programiz.com/python-programming/operators#:~:text=What%20are%20operators%20in%20python%3F%20Operators%20are%20special,and%205%20is%20the%20output%20of%20the%20operation."
   ]
  },
  {
   "cell_type": "markdown",
   "metadata": {},
   "source": [
    "***"
   ]
  },
  {
   "cell_type": "markdown",
   "metadata": {},
   "source": [
    "### Task3:"
   ]
  },
  {
   "cell_type": "markdown",
   "metadata": {},
   "source": [
    "The numpy.random.binomial function can be used to simulate flipping a coin with a 50/50 chance of heads or tails. Interestingly, if a coin is flipped many times then the number of heads is well approximated by a bell-shaped curve. For instance, if we flip a coin 100 times in a row the chance of\n",
    "getting 50 heads is relatively high, the chances of getting 0 or 100 heads is relatively low, and the chances of getting any other number of heads decreases as you move away from 50 in either direction towards 0 or 100. Write some python code that simulates flipping a coin 100 times. Then run this code 1,000 times, keeping track of the number of heads in each of the 1,000 simulations. Select an appropriate plot to depict the resulting list of 1,000 numbers, showing that it roughly follows a bell-shaped curve."
   ]
  },
  {
   "cell_type": "markdown",
   "metadata": {},
   "source": [
    "***"
   ]
  },
  {
   "cell_type": "markdown",
   "metadata": {},
   "source": [
    "#### Solution:"
   ]
  },
  {
   "cell_type": "markdown",
   "metadata": {},
   "source": [
    "The coin toss has been used for centuries to determine random outcomes. The reason it is so useful is there are only 2 possible outcomes \"heads\" or \"tails\". It can be used to settle a dispute, in sports involving 2 teams like GAA, Soccer and Rugby it is used to see what direction a team starts. The appeal of the coin toss is that it is simple, fair method of deciding between 2 options and the outcome of the coin toss should have even odds. \n",
    "There are some publications however such as [1] and [2] who dispute that the outcome of a coin toss is 50:50. The NCBI performed an experiment among Vancouver residents in Canada. The main outcome was the proportion of “heads” coin tosses achieved (out of 300 attempts) by each participant. Each of the participants attempted to flip the coin so as to achieve a heads result. The result was all 13 who took part achieved a result of more heads than tails. The analysis of the experiment suggested that the person who tosses the coin can manipulate the result in order to get their desired result. Fortunately like this simulation below using the normal.binomial distribution all coin tosses into the sporting sphere are carried out by a neutral or referee to ensure there is a even and fair result."
   ]
  },
  {
   "cell_type": "markdown",
   "metadata": {},
   "source": [
    "#### Binomial Distribution"
   ]
  },
  {
   "cell_type": "markdown",
   "metadata": {},
   "source": [
    "A binomial ditribution is used to determine whether the probability of an experiment is a success or failure and this experiment is repeated on multiple occasions. Binomial as the name suggests has two possible outcomes and therefore is the ideal distribution to simulate the toss of a coin where the outcome is either heads or tails. Other uses of the binomial distribution is to determine relief from allergies, the probability of dying after a heart attack and the medical devies such as the coronary stent can be successful or not [3].\n",
    "The formula of the binomial distribution in its simplest form - numpy.random.binomial(n,p, size=none) where p is the probability of success of a single trial and n is the number of trials."
   ]
  },
  {
   "cell_type": "code",
   "execution_count": 30,
   "metadata": {},
   "outputs": [
    {
     "data": {
      "text/plain": [
       "0"
      ]
     },
     "execution_count": 30,
     "metadata": {},
     "output_type": "execute_result"
    }
   ],
   "source": [
    "import numpy as np\n",
    "np.random.binomial(1, .5)"
   ]
  },
  {
   "cell_type": "code",
   "execution_count": 1,
   "metadata": {},
   "outputs": [],
   "source": [
    "import numpy as np"
   ]
  },
  {
   "cell_type": "code",
   "execution_count": 11,
   "metadata": {},
   "outputs": [
    {
     "name": "stdout",
     "output_type": "stream",
     "text": [
      "probability is set to  0.5\n",
      "Tails = 0, Heads = 1:  [1 0 1 0 0 1 0 0 1 1 1 0 0 1 0 1 0 1 1 1 0 0 0 1 0 0 0 1 1 1 1 0 1 1 1 0 0\n",
      " 1 0 1 0 0 1 0 0 1 1 0 1 0 1 1 0 1 1 1 1 1 1 1 0 0 1 1 1 0 1 0 1 0 0 1 0 1\n",
      " 0 1 0 1 0 1 1 1 0 1 1 0 0 1 0 0 0 0 0 1 1 0 0 1 0 0]\n",
      "Head Count:  52\n",
      "Tail Count:  48\n"
     ]
    }
   ],
   "source": [
    "'''Main Area'''\n",
    "#probability of heads vs. tails\n",
    "probability = .5\n",
    "#number of trials\n",
    "n = 100\n",
    "#initiate array\n",
    "fullResults = np.arange(n)\n",
    "#perform desired numbered of flips at required probability set above\n",
    "for i in range(0, n):    \n",
    "    fullResults[i] = coinFlip(probability)    \n",
    "    i+=1\n",
    "#print results\n",
    "print(\"probability is set to \", probability)\n",
    "print(\"Tails = 0, Heads = 1: \", fullResults)\n",
    "#Total up heads and tails for easy user experience \n",
    "print(\"Head Count: \", np.count_nonzero(fullResults == 1))\n",
    "print(\"Tail Count: \", np.count_nonzero(fullResults == 0))"
   ]
  },
  {
   "cell_type": "code",
   "execution_count": null,
   "metadata": {},
   "outputs": [],
   "source": []
  },
  {
   "cell_type": "markdown",
   "metadata": {},
   "source": [
    "## References"
   ]
  },
  {
   "cell_type": "markdown",
   "metadata": {},
   "source": [
    "[1]-WIRED: Cheat With Science: Win a Coin Toss; https://www.wired.com/2010/11/st-cheatscience-cointoss/\n",
    "\n",
    "[2]-NCBI: How random is the toss of a coin?; https://www.ncbi.nlm.nih.gov/pmc/articles/PMC2789164/\n",
    "\n",
    "[3] Sphweb: The Binomial Distribution: A Probability Model for a Discrete Outcome; https://sphweb.bumc.bu.edu/otlt/mph-modules/bs/bs704_probability/bs704_probability7.html\n",
    "\n",
    "[4]"
   ]
  }
 ],
 "metadata": {
  "kernelspec": {
   "display_name": "Python 3",
   "language": "python",
   "name": "python3"
  },
  "language_info": {
   "codemirror_mode": {
    "name": "ipython",
    "version": 3
   },
   "file_extension": ".py",
   "mimetype": "text/x-python",
   "name": "python",
   "nbconvert_exporter": "python",
   "pygments_lexer": "ipython3",
   "version": "3.8.5"
  }
 },
 "nbformat": 4,
 "nbformat_minor": 4
}
