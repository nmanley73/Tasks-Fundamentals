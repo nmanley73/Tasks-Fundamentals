{
 "cells": [
  {
   "cell_type": "markdown",
   "metadata": {},
   "source": [
    "# Tasks"
   ]
  },
  {
   "cell_type": "markdown",
   "metadata": {},
   "source": [
    "Solutions to the task assessment for Fundamentals of Data Analysis. Author is Noel Manley (G00387903@hotmail.com)."
   ]
  },
  {
   "cell_type": "markdown",
   "metadata": {},
   "source": [
    "#### Task1:\n",
    "\n",
    "**October 5th, 2020:** Write a Python function called **counts** that takes a list as input and returns a dictionary of unique items in the list as keys and the number of times each item appears as values. So, the input ['A', 'A', 'B', 'C', 'A'] should have output {'A': 3, 'B': 1, 'C': 1}. Your code should not depend on any module from the standard library or otherwise.\n",
    "****"
   ]
  },
  {
   "cell_type": "markdown",
   "metadata": {},
   "source": [
    "#### Solution:\n",
    "Count the occurence of one list item in a list using the count method as shown below. This method does not work for counting multiple items in a list [1]. If the count method was of all 3 unique items in the list A, B and C, only the count of the last item is produced as output."
   ]
  },
  {
   "cell_type": "code",
   "execution_count": 1,
   "metadata": {},
   "outputs": [
    {
     "data": {
      "text/plain": [
       "1"
      ]
     },
     "execution_count": 1,
     "metadata": {},
     "output_type": "execute_result"
    }
   ],
   "source": [
    "# A list of strings\n",
    "l = ['A', 'A', 'B', 'C', 'A']\n",
    "\n",
    "# Count of each item in the list\n",
    "l.count('A')\n",
    "l.count('B')\n",
    "l.count('C')"
   ]
  },
  {
   "cell_type": "markdown",
   "metadata": {},
   "source": [
    "The simplest means of completing the task is by using the counter object from the collections module. The output from the method is displayed as a dictionary in a list of keys and counts of the list items as required by this task [2]. However the solution for the task should not be from a module of a standard Library. Need to build a function to complete this task but it is infomative to know the module and object to count the number of items into dictionary format."
   ]
  },
  {
   "cell_type": "code",
   "execution_count": 2,
   "metadata": {},
   "outputs": [
    {
     "data": {
      "text/plain": [
       "Counter({'A': 3, 'B': 1, 'C': 1})"
      ]
     },
     "execution_count": 2,
     "metadata": {},
     "output_type": "execute_result"
    }
   ],
   "source": [
    "# Import Counter object from the collections module\n",
    "from collections import Counter\n",
    "\n",
    "# A list of strings\n",
    "l = ['A', 'A', 'B', 'C', 'A']\n",
    "# Count the string objects in a dictionary\n",
    "Counter(l)"
   ]
  },
  {
   "cell_type": "markdown",
   "metadata": {},
   "source": [
    "Dictionaries are Python’s implementation of a data structure that is more generally known as an associative array. A dictionary consists of a collection of key-value pairs. Each key-value pair maps the key to its associated value. A dictionary can be constructed using the dict() function.[3] In the example below i create a dictionary using the input for the task. The dict() function displays the dictionary in the key-value pair format which is required as the output."
   ]
  },
  {
   "cell_type": "code",
   "execution_count": 3,
   "metadata": {},
   "outputs": [
    {
     "data": {
      "text/plain": [
       "{'A': 3, 'B': 1, 'C': 1}"
      ]
     },
     "execution_count": 3,
     "metadata": {},
     "output_type": "execute_result"
    }
   ],
   "source": [
    "# A list of strings\n",
    "l = ['A', 'A', 'B', 'C', 'A']\n",
    "\n",
    "# Create dictionary with the following inputs\n",
    "dict(A = 3, B = 1, C = 1)"
   ]
  },
  {
   "cell_type": "markdown",
   "metadata": {},
   "source": [
    "To complete the task i need to combine the results of the count built-in function which counts the the number of each item \n",
    "with the dict() built-in function and convert the output into a dictionary. This is all done \n",
    "within a For loop [4] to get a count of all the items within the input list. Reference [5] displays the code as follows. Firstly a count of all the items and dict() function displays the output in dictionary format."
   ]
  },
  {
   "cell_type": "code",
   "execution_count": 4,
   "metadata": {},
   "outputs": [
    {
     "data": {
      "text/plain": [
       "{'C': 1, 'A': 3, 'B': 1}"
      ]
     },
     "execution_count": 4,
     "metadata": {},
     "output_type": "execute_result"
    }
   ],
   "source": [
    "# A list of strings\n",
    "l = ['A', 'A', 'B', 'C', 'A']\n",
    "\n",
    "dict((x,l.count(x)) for x in set(l))"
   ]
  },
  {
   "cell_type": "markdown",
   "metadata": {},
   "source": [
    "Finally enclose the code in a function called counts [6]. Sort the dictionary by sorting the keys [7] so the output appears in alphabetical order as specified by the task."
   ]
  },
  {
   "cell_type": "code",
   "execution_count": 5,
   "metadata": {},
   "outputs": [],
   "source": [
    "# A list of strings\n",
    "l = ['A', 'A', 'B', 'C', 'A']\n",
    "# Define a function called counts\n",
    "def counts(l):\n",
    "    # Loop from 0 to the length of the list\n",
    "    for i in range(0, len(l)):\n",
    "        # Return dictionary\n",
    "        return dict((x,l.count(x)) for x in sorted(set (l)))"
   ]
  },
  {
   "cell_type": "code",
   "execution_count": 6,
   "metadata": {},
   "outputs": [
    {
     "data": {
      "text/plain": [
       "{'A': 3, 'B': 1, 'C': 1}"
      ]
     },
     "execution_count": 6,
     "metadata": {},
     "output_type": "execute_result"
    }
   ],
   "source": [
    "# Run function\n",
    "counts(l)"
   ]
  },
  {
   "cell_type": "markdown",
   "metadata": {},
   "source": [
    "## References:\n",
    "[1] - TutorialsPoint: Python List count() method; https://www.tutorialspoint.com/python/list_count.htm\n",
    "\n",
    "[2] - PythonForBeginners: Python Collections Counter; https://www.pythonforbeginners.com/collection/python-collections-counter\n",
    "\n",
    "[3] - Real Python: Dictionaries in Python; https://realpython.com/python-dicts/\n",
    "\n",
    "[4] - w3schools.com: Python For Loops; https://www.w3schools.com/python/python_for_loops.asp\n",
    "\n",
    "[5] - Stack Overflow: How can i count the occurences of a list item?; https://stackoverflow.com/questions/2600191/how-can-i-count-the-occurrences-of-a-list-item\n",
    "\n",
    "[6] - A Whirlwind tour of python: Defining and using functions; https://jakevdp.github.io/WhirlwindTourOfPython/08-defining-functions.html\n",
    "\n",
    "[7] - thispointer.com: Python : How to Sort a Dictionary by key or Value?; https://thispointer.com/python-how-to-sort-a-dictionary-by-key-or-value/\n",
    "\n"
   ]
  },
  {
   "cell_type": "code",
   "execution_count": null,
   "metadata": {},
   "outputs": [],
   "source": []
  }
 ],
 "metadata": {
  "kernelspec": {
   "display_name": "Python 3",
   "language": "python",
   "name": "python3"
  },
  "language_info": {
   "codemirror_mode": {
    "name": "ipython",
    "version": 3
   },
   "file_extension": ".py",
   "mimetype": "text/x-python",
   "name": "python",
   "nbconvert_exporter": "python",
   "pygments_lexer": "ipython3",
   "version": "3.8.5"
  }
 },
 "nbformat": 4,
 "nbformat_minor": 4
}
