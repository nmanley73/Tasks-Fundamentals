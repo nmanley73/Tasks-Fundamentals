{
 "cells": [
  {
   "cell_type": "markdown",
   "metadata": {},
   "source": [
    "# Tasks"
   ]
  },
  {
   "cell_type": "markdown",
   "metadata": {},
   "source": [
    "Solutions to the task assessment for Fundamentals of Data Analysis. Author is Noel Manley (G00387903@hotmail.com)."
   ]
  },
  {
   "cell_type": "markdown",
   "metadata": {},
   "source": [
    "### Task1:\n",
    "\n",
    "**October 5th, 2020:** Write a Python function called **counts** that takes a list as input and returns a dictionary of unique items in the list as keys and the number of times each item appears as values. So, the input ['A', 'A', 'B', 'C', 'A'] should have output {'A': 3, 'B': 1, 'C': 1}. Your code should not depend on any module from the standard library or otherwise.\n",
    "****"
   ]
  },
  {
   "cell_type": "markdown",
   "metadata": {},
   "source": [
    "#### Solution:\n",
    "Count the occurence of one list item in a list using the count method as shown below. This method does not work for counting multiple items in a list [1]. If the count method was of all 3 unique items in the list A, B and C, only the count of the last item is produced as output."
   ]
  },
  {
   "cell_type": "code",
   "execution_count": 1,
   "metadata": {},
   "outputs": [
    {
     "data": {
      "text/plain": [
       "1"
      ]
     },
     "execution_count": 1,
     "metadata": {},
     "output_type": "execute_result"
    }
   ],
   "source": [
    "# A list of strings\n",
    "l = ['A', 'A', 'B', 'C', 'A']\n",
    "\n",
    "# Count of each item in the list\n",
    "l.count('A')\n",
    "l.count('B')\n",
    "l.count('C')"
   ]
  },
  {
   "cell_type": "markdown",
   "metadata": {},
   "source": [
    "The simplest means of completing the task is by using the counter object from the collections module. The output from the method is displayed as a dictionary in a list of keys and counts of the list items as required by this task [2]. However the solution for the task should not be from a module of a standard Library. Need to build a function to complete this task but it is infomative to know the module and object to count the number of items into dictionary format."
   ]
  },
  {
   "cell_type": "code",
   "execution_count": 2,
   "metadata": {},
   "outputs": [
    {
     "data": {
      "text/plain": [
       "Counter({'A': 3, 'B': 1, 'C': 1})"
      ]
     },
     "execution_count": 2,
     "metadata": {},
     "output_type": "execute_result"
    }
   ],
   "source": [
    "# Import Counter object from the collections module\n",
    "from collections import Counter\n",
    "\n",
    "# A list of strings\n",
    "l = ['A', 'A', 'B', 'C', 'A']\n",
    "# Count the string objects in a dictionary\n",
    "Counter(l)"
   ]
  },
  {
   "cell_type": "markdown",
   "metadata": {},
   "source": [
    "Dictionaries are Python’s implementation of a data structure that is more generally known as an associative array. A dictionary consists of a collection of key-value pairs. Each key-value pair maps the key to its associated value. A dictionary can be constructed using the dict() function.[3] In the example below i create a dictionary using the input for the task. The dict() function displays the dictionary in the key-value pair format which is required as the output."
   ]
  },
  {
   "cell_type": "code",
   "execution_count": 3,
   "metadata": {},
   "outputs": [
    {
     "data": {
      "text/plain": [
       "{'A': 3, 'B': 1, 'C': 1}"
      ]
     },
     "execution_count": 3,
     "metadata": {},
     "output_type": "execute_result"
    }
   ],
   "source": [
    "# A list of strings\n",
    "l = ['A', 'A', 'B', 'C', 'A']\n",
    "\n",
    "# Create dictionary with the following inputs\n",
    "dict(A = 3, B = 1, C = 1)"
   ]
  },
  {
   "cell_type": "markdown",
   "metadata": {},
   "source": [
    "To complete the task i need to combine the results of the count built-in function which counts the the number of each item \n",
    "with the dict() built-in function and convert the output into a dictionary. This is all done \n",
    "within a For loop [4] to get a count of all the items within the input list. Reference [5] displays the code as follows. Firstly a count of all the items and dict() function displays the output in dictionary format."
   ]
  },
  {
   "cell_type": "code",
   "execution_count": 125,
   "metadata": {},
   "outputs": [
    {
     "data": {
      "text/plain": [
       "{'C': 1, 'A': 3, 'B': 1}"
      ]
     },
     "execution_count": 125,
     "metadata": {},
     "output_type": "execute_result"
    }
   ],
   "source": [
    "# A list of strings\n",
    "l = ['A', 'A', 'B', 'C', 'A']\n",
    "\n",
    "dict((x,l.count(x)) for x in set(l))"
   ]
  },
  {
   "cell_type": "markdown",
   "metadata": {},
   "source": [
    "Finally enclose the code in a function called counts [6]. Sort the dictionary by sorting the keys [7] so the output appears in alphabetical order as specified by the task."
   ]
  },
  {
   "cell_type": "code",
   "execution_count": 5,
   "metadata": {},
   "outputs": [],
   "source": [
    "# A list of strings\n",
    "l = ['A', 'A', 'B', 'C', 'A']\n",
    "# Define a function called counts\n",
    "def counts(l):\n",
    "    # Loop from 0 to the length of the list\n",
    "    for i in range(0, len(l)):\n",
    "        # Return dictionary\n",
    "        return dict((x,l.count(x)) for x in sorted(set (l)))"
   ]
  },
  {
   "cell_type": "code",
   "execution_count": 6,
   "metadata": {},
   "outputs": [
    {
     "data": {
      "text/plain": [
       "{'A': 3, 'B': 1, 'C': 1}"
      ]
     },
     "execution_count": 6,
     "metadata": {},
     "output_type": "execute_result"
    }
   ],
   "source": [
    "# Run function\n",
    "counts(l)"
   ]
  },
  {
   "cell_type": "markdown",
   "metadata": {},
   "source": [
    "## References:\n",
    "[1] - TutorialsPoint: Python List count() method; https://www.tutorialspoint.com/python/list_count.htm\n",
    "\n",
    "[2] - PythonForBeginners: Python Collections Counter; https://www.pythonforbeginners.com/collection/python-collections-counter\n",
    "\n",
    "[3] - Real Python: Dictionaries in Python; https://realpython.com/python-dicts/\n",
    "\n",
    "[4] - w3schools.com: Python For Loops; https://www.w3schools.com/python/python_for_loops.asp\n",
    "\n",
    "[5] - Stack Overflow: How can i count the occurences of a list item?; https://stackoverflow.com/questions/2600191/how-can-i-count-the-occurrences-of-a-list-item\n",
    "\n",
    "[6] - A Whirlwind tour of python: Defining and using functions; https://jakevdp.github.io/WhirlwindTourOfPython/08-defining-functions.html\n",
    "\n",
    "[7] - thispointer.com: Python : How to Sort a Dictionary by key or Value?; https://thispointer.com/python-how-to-sort-a-dictionary-by-key-or-value/"
   ]
  },
  {
   "cell_type": "markdown",
   "metadata": {},
   "source": [
    "***"
   ]
  },
  {
   "cell_type": "markdown",
   "metadata": {},
   "source": [
    "### Task2:"
   ]
  },
  {
   "cell_type": "markdown",
   "metadata": {},
   "source": [
    "**November 2nd 2020:** Write a function called **dicerolls** that simulates rolling dice. Your function should take 2 parameters: the number of dice k and the number of times to roll the dice n. The function should simulate randomly rolling k dice n times. Keeping track of each total face value. It should then return a dictionary with the number of times each possible total face value occurred.\n",
    "***"
   ]
  },
  {
   "cell_type": "markdown",
   "metadata": {},
   "source": [
    "#### Solution:"
   ]
  },
  {
   "cell_type": "markdown",
   "metadata": {},
   "source": [
    "The numpy.random function randint is used to simulate the rolling one dice. It can be used also to simulate multiple dice rolling concurrently also. If one dice is rolled using this function (as shown in the example below) you have an equal probability of getting each of the 6 sides. If the number of dice rolls was increased the histogram would be flatten but overall for each roll of the dice there is the same probability of any one of the 6 sides to appear."
   ]
  },
  {
   "cell_type": "code",
   "execution_count": 206,
   "metadata": {},
   "outputs": [
    {
     "data": {
      "text/plain": [
       "(array([173., 167., 162., 157., 159., 182.]),\n",
       " array([0.5, 1.5, 2.5, 3.5, 4.5, 5.5, 6.5]),\n",
       " <BarContainer object of 6 artists>)"
      ]
     },
     "execution_count": 206,
     "metadata": {},
     "output_type": "execute_result"
    },
    {
     "data": {
      "image/png": "[encoded data removed]",
      "text/plain": [
       "<Figure size 432x288 with 1 Axes>"
      ]
     },
     "metadata": {
      "needs_background": "light"
     },
     "output_type": "display_data"
    }
   ],
   "source": [
    "# import numpy and matplotlib libraries\n",
    "import numpy as np\n",
    "import matplotlib.pyplot as plt\n",
    "\n",
    "# Use random.randint function\n",
    "y = np.random.randint(1, 7, size = 1000)\n",
    "\n",
    "# show histogram of output\n",
    "plt.hist(y, bins = np.linspace(0.5, 6.5, 7))"
   ]
  },
  {
   "cell_type": "markdown",
   "metadata": {},
   "source": [
    "If the number of dice was increased to 2 the minimum total face value would be 2 and the maximum face value would be 12 per roll. For a rolling dice simulation with 1000 rolls the distribution will be similar to a normal distribution [1] with the number of total face values clustered around the middle and less around the edges."
   ]
  },
  {
   "cell_type": "markdown",
   "metadata": {},
   "source": [
    "The random.randint function can be used for multiple dicerolls also. However random.choices function has been selected to display the simulation of multiple dice. Same as the randint function for one dice the probability of selecting any of the 6 faces is the same. A numpy array and a plt similar to randint example above would be created.\n",
    "For multiple dice rolls the resulting distribution will be similar to a [1] normal distribution as the sum of each dice roll is calculated rather than one value returning the majority of the vlaues clustered around the mean while data less frequent is farther away from the mean. \n",
    "For the task solution the dicerolls function, the range method [2] is used within the random.choices method [3] to get the start and the end point of the range - the dice face value for one roll. within the choice method is the number of rolls specified in the function dicerolls (k = 1000).\n",
    "The += operator [4] adds to the variable counter within the for loop until all 1000 rolls have been completed."
   ]
  },
  {
   "cell_type": "code",
   "execution_count": 91,
   "metadata": {},
   "outputs": [
    {
     "data": {
      "text/plain": [
       "{2: 29,\n",
       " 3: 61,\n",
       " 4: 89,\n",
       " 5: 106,\n",
       " 6: 137,\n",
       " 7: 179,\n",
       " 8: 146,\n",
       " 9: 89,\n",
       " 10: 82,\n",
       " 11: 53,\n",
       " 12: 29}"
      ]
     },
     "execution_count": 91,
     "metadata": {},
     "output_type": "execute_result"
    }
   ],
   "source": [
    "# import numpy library\n",
    "import numpy as np\n",
    "import matplotlib.pyplot as plt\n",
    "\n",
    "# define the function dicerolls with 2 parameters k = no. of dice & n = no. of dice rolls\n",
    "def dicerolls(k, n):\n",
    "    # prepare dictionary with zero values for all possible results\n",
    "    counter = {n : 0 for n in range(k, k*6 + 1)}\n",
    "\n",
    "    # roll the dice\n",
    "    for i in range(n):\n",
    "        # sums all rolls of the dice\n",
    "        total = sum(random.choices(range(1, 6 + 1), k = k))\n",
    "        # adds result of each roll to counter\n",
    "        counter[total] += 1\n",
    "    return counter\n",
    "# enter values for the no. of dice & no. of rolls (2 and 1000)\n",
    "dicerolls(2, 1000)"
   ]
  },
  {
   "cell_type": "markdown",
   "metadata": {},
   "source": [
    "### References:\n",
    "[1] - Dr. Soumen Atta: Simulating randomness using Python’s random module; https://soumenatta.medium.com/simulating-randomness-using-pythons-random-module-de9c08910c3c\n",
    "\n",
    "[2] - GeekforGeeks: Python | range() method; https://www.geeksforgeeks.org/python-range-method/?ref=rp\n",
    "\n",
    "[3] - w3schools.com: Python Random choices() Method; https://www.w3schools.com/python/ref_random_choices.asp\n",
    "\n",
    "[4] - Programiz: Python Operators; https://www.programiz.com/python-programming/operators#:~:text=What%20are%20operators%20in%20python%3F%20Operators%20are%20special,and%205%20is%20the%20output%20of%20the%20operation."
   ]
  },
  {
   "cell_type": "markdown",
   "metadata": {},
   "source": [
    "***"
   ]
  },
  {
   "cell_type": "markdown",
   "metadata": {},
   "source": [
    "### Task3:"
   ]
  },
  {
   "cell_type": "markdown",
   "metadata": {},
   "source": [
    "The numpy.random.binomial function can be used to simulate flipping a coin with a 50/50 chance of heads or tails. Interestingly, if a coin is flipped many times then the number of heads is well approximated by a bell-shaped curve. For instance, if we flip a coin 100 times in a row the chance of\n",
    "getting 50 heads is relatively high, the chances of getting 0 or 100 heads is relatively low, and the chances of getting any other number of heads decreases as you move away from 50 in either direction towards 0 or 100. Write some python code that simulates flipping a coin 100 times. Then run this code 1,000 times, keeping track of the number of heads in each of the 1,000 simulations. Select an appropriate plot to depict the resulting list of 1,000 numbers, showing that it roughly follows a bell-shaped curve."
   ]
  },
  {
   "cell_type": "markdown",
   "metadata": {},
   "source": [
    "***"
   ]
  },
  {
   "cell_type": "markdown",
   "metadata": {},
   "source": [
    "#### Solution:"
   ]
  },
  {
   "cell_type": "markdown",
   "metadata": {},
   "source": [
    "The coin toss has been used for centuries to determine random outcomes. The reason it is so useful is there are only 2 possible outcomes \"heads\" or \"tails\". It can be used to settle a dispute, in sports involving 2 teams like GAA, Soccer and Rugby it is used to see what direction a team starts. The appeal of the coin toss is that it is simple, fair method of deciding between 2 options and the outcome of the coin toss should have even odds. \n",
    "There are some publications however such as [1] and [2] who dispute that the outcome of a coin toss is 50:50. The NCBI performed an experiment among Vancouver residents in Canada. The main outcome was the proportion of “heads” coin tosses achieved (out of 300 attempts) by each participant. Each of the participants attempted to flip the coin so as to achieve a heads result. The result was all 13 who took part achieved a result of more heads than tails. The analysis of the experiment suggested that the person who tosses the coin can manipulate the result in order to get their desired result. Fortunately like this simulation below using the normal.binomial distribution all coin tosses into the sporting sphere are carried out by a neutral or referee to ensure there is a even and fair result."
   ]
  },
  {
   "cell_type": "markdown",
   "metadata": {},
   "source": [
    "#### Binomial Distribution"
   ]
  },
  {
   "cell_type": "markdown",
   "metadata": {},
   "source": [
    "A binomial ditribution is used to determine whether the probability of an experiment is a success or failure and this experiment is repeated on multiple occasions. Binomial as the name suggests has two possible outcomes and therefore is the ideal distribution to simulate the toss of a coin where the outcome is either heads or tails. Other uses of the binomial distribution is to determine relief from allergies, the probability of dying after a heart attack and the medical devices such as the coronary stent can be successful or not [3].\n",
    "The formula of the binomial distribution in its simplest form - numpy.random.binomial(n,p, size=none) where p is the probability of success of a single trial and n is the number of trials."
   ]
  },
  {
   "cell_type": "markdown",
   "metadata": {},
   "source": [
    "In the example below the numpy library is imported. The random.binomial distribution from the numpy library performs a coin toss and returns a 0 or a 1. The coin toss simulator is run only once as the number of trials specified in the code is 1. It is a fair coin toss as probability parameter is 0.5. I have used an if else statement [4] to identify the coin toss as either heads or tails. If the expression in the if statement is a 1 or a success value then the result of the coin toss is heads and the else statement returns a tails value if the expression returns a 0 or a false value. For each fair coin toss it is expected that half the time the result will be heads and half the time tails."
   ]
  },
  {
   "cell_type": "code",
   "execution_count": 20,
   "metadata": {},
   "outputs": [
    {
     "name": "stdout",
     "output_type": "stream",
     "text": [
      "tails\n"
     ]
    }
   ],
   "source": [
    "# import numpy library\n",
    "import numpy as np\n",
    "# no of coin toss is 1 and probability is 0.5\n",
    "if np.random.binomial(1, .5) == 1: \n",
    "    print (\"heads\")\n",
    "else: print(\"tails\")"
   ]
  },
  {
   "cell_type": "markdown",
   "metadata": {},
   "source": [
    "If two coins are tossed using the same probability there will be 2 results for each individual coin toss but for the combination of the two coin tosses there are four different possibilities: two heads, a head and a tail, a tail and a head and two tails [5]. The most common outcome from tossing 2 coins is a head and a tail, 50% of the time. Similarily for 3 coin tosses there are 8 possible outcomes. Each of the eight possibilities are equally likely so each have a probability of 0.125 [6]. 4 coin tosses have 16 different combinations. The simplest way to calculate the number of combinations is by factorial of the number of times the coin is been tossed 4! or 2 x 2 x 2 x 2.\n",
    "In the example below a function called cointoss is created to find how many heads are observed if a coin is tossed 100 times. The expected result from a fair coin toss will be close to 50% of the number of coin tosses. Furthermore the likelihood of getting 0 or 100 heads are highly unlikely with the results expected to be close clustered around the mean of 50."
   ]
  },
  {
   "cell_type": "code",
   "execution_count": 196,
   "metadata": {},
   "outputs": [
    {
     "data": {
      "text/plain": [
       "54"
      ]
     },
     "execution_count": 196,
     "metadata": {},
     "output_type": "execute_result"
    }
   ],
   "source": [
    "# import numpy library\n",
    "import numpy as np\n",
    "# define function cointoss\n",
    "def cointoss():\n",
    "    # assign values to no of trials and probability\n",
    "    n=100\n",
    "    p=.5\n",
    "    # for loop to loop through the 100 coin tosses\n",
    "    for i in range(0, n):\n",
    "        x = np.random.binomial(n, p)\n",
    "        x+=1\n",
    "    return x\n",
    "# run function to get outcome (no. of heads)\n",
    "cointoss()"
   ]
  },
  {
   "cell_type": "markdown",
   "metadata": {},
   "source": [
    "#### Bell-Shaped Curve"
   ]
  },
  {
   "cell_type": "markdown",
   "metadata": {},
   "source": [
    "If 4 coins are flipped the extremes of no heads and all heads are beginning to disappear. As the number of coins flipped increase the probability is clustered around the central average and the the extremes of getting all heads or no heads have disappeared. The plot of the array that's produced is called a bell-shaped curve as it appears like the shape of a bell [7]. The shape of the bell shaped curve is determined by the mean and the standard deviation. The standard deviation is the distance that measurements spread out from the mean."
   ]
  },
  {
   "cell_type": "markdown",
   "metadata": {},
   "source": [
    "#### Experiment"
   ]
  },
  {
   "cell_type": "markdown",
   "metadata": {},
   "source": [
    "The following python code simulates flipping a coin 100 times (n). This code is run 1,000 times (size), to display in an array the number of heads in each of the 1,000 simulations[8],[9]. As can be seen from the array the outcome of each experiment is close to the expected result of 50 heads."
   ]
  },
  {
   "cell_type": "code",
   "execution_count": 180,
   "metadata": {},
   "outputs": [
    {
     "name": "stdout",
     "output_type": "stream",
     "text": [
      "Results of 1,000 experiments - [49 52 44 42 58 52 51 56 48 52 49 47 48 43 59 55 48 43 49 51 46 59 50 48\n",
      " 55 57 51 46 43 55 43 55 56 40 56 53 46 45 50 45 52 51 54 54 59 56 40 55\n",
      " 51 46 56 49 62 49 43 55 49 49 48 52 45 54 46 51 44 65 55 49 45 44 53 41\n",
      " 50 45 48 46 49 52 50 49 53 48 55 59 42 50 59 52 58 48 60 46 48 41 54 41\n",
      " 56 47 50 50 57 48 55 49 46 44 56 58 42 56 51 59 56 50 49 51 42 50 52 49\n",
      " 52 46 46 60 52 42 61 59 53 52 46 49 58 57 46 54 50 49 39 44 48 57 48 60\n",
      " 53 48 46 51 56 46 49 46 44 52 43 54 56 50 48 46 50 47 61 48 46 42 43 47\n",
      " 60 48 59 54 42 47 49 51 59 59 51 50 48 55 44 58 57 60 49 46 39 52 52 52\n",
      " 52 54 52 41 45 43 43 50 51 47 50 53 51 53 48 51 44 49 41 49 52 53 49 48\n",
      " 45 52 48 51 45 47 57 52 48 48 51 53 51 46 47 49 49 57 48 60 47 55 52 44\n",
      " 47 50 49 45 55 43 49 49 49 46 64 45 46 52 46 49 50 55 42 47 53 44 46 41\n",
      " 50 48 46 49 45 49 56 48 52 46 47 48 43 60 52 52 59 58 45 40 48 56 53 54\n",
      " 50 51 45 45 49 43 45 46 52 47 46 55 45 53 51 41 55 49 49 49 49 56 50 57\n",
      " 48 50 54 48 50 57 52 47 46 47 55 39 41 58 50 46 51 43 47 50 54 45 40 46\n",
      " 55 44 47 46 51 52 53 53 48 48 50 51 48 50 56 61 49 41 51 46 49 52 61 41\n",
      " 49 46 53 46 50 49 51 40 54 40 59 41 52 54 54 54 51 51 46 56 50 61 48 60\n",
      " 53 53 55 43 41 51 52 57 50 44 54 41 41 48 55 50 51 58 57 48 45 57 50 46\n",
      " 48 55 44 51 50 46 51 43 54 54 48 47 54 46 52 46 50 52 55 54 39 41 52 51\n",
      " 50 46 48 52 50 53 48 55 43 46 48 46 52 49 50 56 56 52 43 46 49 44 51 53\n",
      " 37 47 46 48 51 51 41 53 40 52 50 53 51 58 47 54 52 50 55 54 49 49 56 52\n",
      " 44 53 55 50 52 50 42 42 52 50 48 36 60 40 43 48 52 46 41 39 50 56 57 45\n",
      " 53 52 54 51 54 50 48 54 54 47 43 56 43 53 51 53 57 48 49 52 46 45 60 52\n",
      " 55 55 57 51 47 53 45 51 52 52 54 44 51 51 47 44 50 40 45 51 42 47 49 48\n",
      " 54 56 45 45 48 52 44 46 54 46 45 50 41 56 48 47 48 45 49 56 56 49 60 52\n",
      " 57 52 55 43 45 52 55 52 50 45 45 57 53 55 54 48 54 45 48 47 48 50 54 56\n",
      " 48 43 47 47 50 53 51 59 54 50 52 55 43 49 53 43 56 50 63 53 53 63 51 40\n",
      " 48 41 54 49 49 46 57 51 49 48 48 56 48 50 46 55 54 55 48 52 40 54 52 56\n",
      " 50 48 43 48 57 52 50 49 58 50 56 43 51 48 51 41 47 42 52 52 55 48 49 53\n",
      " 49 52 47 50 45 49 45 60 67 56 49 49 51 52 58 45 41 45 45 42 45 42 47 56\n",
      " 44 52 50 54 46 41 51 50 46 57 49 49 56 47 56 41 47 51 46 53 44 56 39 53\n",
      " 45 46 52 42 55 50 50 52 49 49 51 46 47 50 54 48 41 47 48 46 58 48 48 42\n",
      " 53 57 50 46 51 53 54 49 56 40 44 48 44 40 52 50 49 60 49 52 42 50 43 48\n",
      " 50 50 54 49 44 61 46 49 52 54 48 57 49 54 49 42 49 54 48 60 47 53 45 47\n",
      " 51 47 48 50 49 52 51 52 56 57 53 56 55 55 51 43 57 47 53 54 48 44 48 61\n",
      " 54 45 56 53 48 47 46 47 53 43 49 57 43 46 46 46 48 64 54 53 58 44 54 46\n",
      " 52 53 56 46 42 55 54 48 48 57 56 43 44 47 50 55 52 50 52 49 51 45 44 46\n",
      " 48 46 51 54 49 54 46 49 52 58 48 55 54 58 50 49 46 49 59 60 55 48 54 51\n",
      " 57 48 48 48 47 54 53 56 48 48 47 56 49 46 60 52 50 48 53 47 58 55 55 49\n",
      " 51 43 59 55 52 47 52 52 52 53 44 45 49 56 46 49 57 44 58 59 46 53 46 59\n",
      " 54 49 43 47 49 53 58 50 50 51 47 56 46 46 48 54 49 38 60 53 52 55 43 47\n",
      " 49 53 43 44 50 45 45 58 46 46 44 53 54 49 55 50 57 49 54 47 52 50 50 54\n",
      " 49 48 51 48 40 61 56 57 58 56 47 47 46 45 50 48]\n"
     ]
    }
   ],
   "source": [
    "# import libraries\n",
    "import numpy as np\n",
    "import matplotlib.pyplot as plt\n",
    "np.random.seed(42)\n",
    "# assign values to no. of trials and probability\n",
    "n=100\n",
    "p=0.5\n",
    "# repeat the experiment 1000 times\n",
    "size=1000\n",
    "# binomial methos to flip the coin\n",
    "x=np.random.binomial(n, p, size)\n",
    "# print the results of the 1000 experiments in an array\n",
    "print(\"Results of 1,000 experiments -\",x)"
   ]
  },
  {
   "cell_type": "markdown",
   "metadata": {},
   "source": [
    "Count the number of heads for each of the 1,000 experiments. Plot the number of successes (heads) on a line plot. The resulting plot is a bell shaped curve as shown below where the probability of seeing 50 heads is the highest (mean) and the standard deviation is a distance of 31 ranging from 36 to 67 heads."
   ]
  },
  {
   "cell_type": "code",
   "execution_count": 195,
   "metadata": {},
   "outputs": [
    {
     "ename": "TypeError",
     "evalue": "'str' object is not callable",
     "output_type": "error",
     "traceback": [
      "\u001b[1;31m---------------------------------------------------------------------------\u001b[0m",
      "\u001b[1;31mTypeError\u001b[0m                                 Traceback (most recent call last)",
      "\u001b[1;32m<ipython-input-195-487a5567fe4e>\u001b[0m in \u001b[0;36m<module>\u001b[1;34m\u001b[0m\n\u001b[0;32m      1\u001b[0m \u001b[0mbc\u001b[0m\u001b[1;33m=\u001b[0m\u001b[1;33m[\u001b[0m\u001b[0mnp\u001b[0m\u001b[1;33m.\u001b[0m\u001b[0mequal\u001b[0m\u001b[1;33m(\u001b[0m\u001b[0mx\u001b[0m\u001b[1;33m,\u001b[0m\u001b[0mi\u001b[0m\u001b[1;33m)\u001b[0m\u001b[1;33m.\u001b[0m\u001b[0msum\u001b[0m\u001b[1;33m(\u001b[0m\u001b[1;33m)\u001b[0m \u001b[1;32mfor\u001b[0m \u001b[0mi\u001b[0m \u001b[1;32min\u001b[0m \u001b[0mrange\u001b[0m\u001b[1;33m(\u001b[0m\u001b[0mn\u001b[0m\u001b[1;33m)\u001b[0m\u001b[1;33m]\u001b[0m\u001b[1;33m\u001b[0m\u001b[1;33m\u001b[0m\u001b[0m\n\u001b[0;32m      2\u001b[0m \u001b[0mplt\u001b[0m\u001b[1;33m.\u001b[0m\u001b[0mplot\u001b[0m\u001b[1;33m(\u001b[0m\u001b[0mlist\u001b[0m\u001b[1;33m(\u001b[0m\u001b[0mrange\u001b[0m\u001b[1;33m(\u001b[0m\u001b[0mn\u001b[0m\u001b[1;33m)\u001b[0m\u001b[1;33m)\u001b[0m\u001b[1;33m,\u001b[0m \u001b[0mbc\u001b[0m\u001b[1;33m,\u001b[0m \u001b[0mcolor\u001b[0m\u001b[1;33m=\u001b[0m\u001b[1;34m'blue'\u001b[0m\u001b[1;33m)\u001b[0m\u001b[1;33m\u001b[0m\u001b[1;33m\u001b[0m\u001b[0m\n\u001b[1;32m----> 3\u001b[1;33m \u001b[0mplt\u001b[0m\u001b[1;33m.\u001b[0m\u001b[0mxlabel\u001b[0m\u001b[1;33m(\u001b[0m\u001b[1;34m'No of Heads'\u001b[0m\u001b[1;33m)\u001b[0m\u001b[1;33m\u001b[0m\u001b[1;33m\u001b[0m\u001b[0m\n\u001b[0m\u001b[0;32m      4\u001b[0m \u001b[0mplt\u001b[0m\u001b[1;33m.\u001b[0m\u001b[0mylabel\u001b[0m\u001b[1;33m(\u001b[0m\u001b[1;34m'Probability'\u001b[0m\u001b[1;33m)\u001b[0m\u001b[1;33m\u001b[0m\u001b[1;33m\u001b[0m\u001b[0m\n",
      "\u001b[1;31mTypeError\u001b[0m: 'str' object is not callable"
     ]
    },
    {
     "data": {
      "image/png": "[encoded data removed]",
      "text/plain": [
       "<Figure size 432x288 with 1 Axes>"
      ]
     },
     "metadata": {
      "needs_background": "light"
     },
     "output_type": "display_data"
    }
   ],
   "source": [
    "bc=[np.equal(x,i).sum() for i in range(n)]\n",
    "plt.plot(list(range(n)), bc, color='blue')\n",
    "plt.xlabel('No of Heads')\n",
    "plt.ylabel('Probability')"
   ]
  },
  {
   "cell_type": "markdown",
   "metadata": {},
   "source": [
    "## References"
   ]
  },
  {
   "cell_type": "markdown",
   "metadata": {},
   "source": [
    "[1]-WIRED: Cheat With Science: Win a Coin Toss; https://www.wired.com/2010/11/st-cheatscience-cointoss/\n",
    "\n",
    "[2]-NCBI: How random is the toss of a coin?; https://www.ncbi.nlm.nih.gov/pmc/articles/PMC2789164/\n",
    "\n",
    "[3]-Sphweb: The Binomial Distribution: A Probability Model for a Discrete Outcome; https://sphweb.bumc.bu.edu/otlt/mph-modules/bs/bs704_probability/bs704_probability7.html\n",
    "\n",
    "[4]-tutorials point: Python IF...ELIF...ELSE Statements; https://www.tutorialspoint.com/python/python_if_else.htm\n",
    "\n",
    "[5]-Sumproduct.com: Simulation Stimulation; https://www.sumproduct.com/thought/simulation-stimulation\n",
    "\n",
    "[6]-pi3: Week 9: Tossing a Coin and the Bell Curve; http://pi3.sites.sheffield.ac.uk/tutorials/week-9\n",
    "\n",
    "[7]-Open.lib: The Binomial Distribution and the Bell Curve; https://open.lib.umn.edu/app/uploads/sites/218/2018/08/Bell-Curve-script.pdf\n",
    "\n",
    "[8]-cmdlinetips: Simulating Coin Toss Experiment in Python with NumPy; https://cmdlinetips.com/2018/12/simulating-coin-toss-experiment-with-binomial-random-numbers-using-numpy/\n",
    "\n",
    "[9]-towards datascience: How To Code A Fair Coin Flip In Python — Regina Of Tech; https://towardsdatascience.com/how-to-code-a-fair-coin-flip-in-python-d54312f33da9\n",
    "\n",
    "[10]-Includehelp.com: Python | Binomial Experiment Simulation; https://www.includehelp.com/python/binomial-experiment-simulation.aspx"
   ]
  },
  {
   "cell_type": "markdown",
   "metadata": {},
   "source": [
    "***"
   ]
  },
  {
   "cell_type": "code",
   "execution_count": null,
   "metadata": {},
   "outputs": [],
   "source": []
  }
 ],
 "metadata": {
  "kernelspec": {
   "display_name": "Python 3",
   "language": "python",
   "name": "python3"
  },
  "language_info": {
   "codemirror_mode": {
    "name": "ipython",
    "version": 3
   },
   "file_extension": ".py",
   "mimetype": "text/x-python",
   "name": "python",
   "nbconvert_exporter": "python",
   "pygments_lexer": "ipython3",
   "version": "3.8.5"
  }
 },
 "nbformat": 4,
 "nbformat_minor": 4
}
